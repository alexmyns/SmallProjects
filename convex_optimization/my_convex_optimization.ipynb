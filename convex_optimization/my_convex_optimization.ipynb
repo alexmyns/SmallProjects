{
 "cells": [
  {
   "cell_type": "code",
   "execution_count": 1,
   "metadata": {},
   "outputs": [],
   "source": [
    "import matplotlib.pyplot as plt\n",
    "import numpy as np\n",
    "\n",
    "## Additional libaries for the convex optimization\n",
    "                \n",
    "from scipy.optimize import minimize_scalar"
   ]
  },
  {
   "cell_type": "code",
   "execution_count": 2,
   "metadata": {},
   "outputs": [],
   "source": [
    "#Plotting function to get a feel of it\n",
    "\n",
    "x = np.arange(-10, 10, 0.001)\n",
    "f = lambda x : (x - 1)**4 + x**2"
   ]
  },
  {
   "cell_type": "code",
   "execution_count": 3,
   "metadata": {},
   "outputs": [
    {
     "data": {
      "image/png": "[encoded data removed]",
      "text/plain": [
       "<Figure size 432x288 with 1 Axes>"
      ]
     },
     "metadata": {
      "needs_background": "light"
     },
     "output_type": "display_data"
    }
   ],
   "source": [
    "plt.plot(x,f(x))\n",
    "plt.grid()\n",
    "plt.show()"
   ]
  },
  {
   "cell_type": "code",
   "execution_count": 4,
   "metadata": {},
   "outputs": [],
   "source": [
    "#Bisection method\n",
    "\n",
    "def find_root_bisection(f,a,b):\n",
    "    while (abs(a-b)>=0.000001):\n",
    "        mid = (a+b)/2\n",
    "        f_a = f(a)\n",
    "        f_b = f(b)\n",
    "        f_mid = f(mid)\n",
    "        if np.sign(f_mid)!= np.sign(f_a):\n",
    "            b = mid\n",
    "        else: a = mid\n",
    "    return mid"
   ]
  },
  {
   "cell_type": "code",
   "execution_count": 5,
   "metadata": {},
   "outputs": [],
   "source": [
    "#Newton-Raphson's method\n",
    "\n",
    "def find_root_newton_raphson(f,deriv_f,guess):\n",
    "    f_by_deriv = f(guess) / deriv_f(guess)\n",
    "    while abs(f_by_deriv) >= 0.000001:\n",
    "        f_by_deriv = f(guess) / deriv_f(guess)\n",
    "        guess = guess - f_by_deriv     \n",
    "    return guess"
   ]
  },
  {
   "cell_type": "code",
   "execution_count": 6,
   "metadata": {},
   "outputs": [
    {
     "name": "stdout",
     "output_type": "stream",
     "text": [
      "2.236067977499978\n"
     ]
    }
   ],
   "source": [
    "#Newton-Raphson's method testing\n",
    "\n",
    "f = lambda x:x**2 -5\n",
    "deriv_f = lambda x:2*x\n",
    "guess = 3\n",
    "print(find_root_newton_raphson(f,deriv_f,guess))"
   ]
  },
  {
   "cell_type": "code",
   "execution_count": 7,
   "metadata": {},
   "outputs": [
    {
     "name": "stdout",
     "output_type": "stream",
     "text": [
      "Bisection method: x_min: 0.41, f(x_min): 0.29\n",
      "Newton-Raphsons method: x_min: 0.41, f(x_min): 0.29\n"
     ]
    }
   ],
   "source": [
    "#Using of root-finding methods for finding the root of f-prime. \n",
    "\n",
    "f = lambda x : (x - 1)**4 + x**2\n",
    "f_prime = lambda x: 4*(x - 1)**3 + 2*x\n",
    "deriv_f_prime= lambda x: 12*(x - 1)**2 + 2\n",
    "guess=2\n",
    "print ('Bisection method: x_min: %.02f, f(x_min): %.02f' % (find_root_bisection(f_prime,0,4), f(find_root_bisection(f_prime,0,4))))\n",
    "print('Newton-Raphsons method: x_min: %.02f, f(x_min): %.02f' % (find_root_newton_raphson(f_prime,deriv_f_prime,guess),  f(find_root_newton_raphson(f_prime,deriv_f_prime,guess))))\n"
   ]
  },
  {
   "cell_type": "code",
   "execution_count": 8,
   "metadata": {},
   "outputs": [
    {
     "name": "stdout",
     "output_type": "stream",
     "text": [
      "x_min: 0.41, f(x_min): 0.29\n"
     ]
    },
    {
     "data": {
      "text/plain": [
       "<matplotlib.legend.Legend at 0x7f024de9d6a0>"
      ]
     },
     "execution_count": 8,
     "metadata": {},
     "output_type": "execute_result"
    },
    {
     "data": {
      "image/png": "[encoded data removed]",
      "text/plain": [
       "<Figure size 432x288 with 1 Axes>"
      ]
     },
     "metadata": {
      "needs_background": "light"
     },
     "output_type": "display_data"
    }
   ],
   "source": [
    "#Checking our methods against Brent's method for optimization\n",
    "\n",
    "f = lambda x : (x - 1)**4 + x**2\n",
    "\n",
    "res = minimize_scalar(f, method='brent')\n",
    "print('x_min: %.02f, f(x_min): %.02f' % (res.x, res.fun))\n",
    "\n",
    "# plot curve\n",
    "x = np.linspace(res.x - 1, res.x + 1, 100)\n",
    "y = [f(val) for val in x]\n",
    "plt.plot(x, y, color='blue', label='f')\n",
    "\n",
    "# plot optima\n",
    "plt.scatter(res.x, res.fun, color='red', marker='x', label='Minimum')\n",
    "\n",
    "plt.grid()\n",
    "plt.legend(loc = 1)"
   ]
  },
  {
   "cell_type": "code",
   "execution_count": 9,
   "metadata": {},
   "outputs": [
    {
     "name": "stdout",
     "output_type": "stream",
     "text": [
      "xmin: 0.41, f(x_min): 0.29\n"
     ]
    }
   ],
   "source": [
    "#Gradient Descent method \n",
    "\n",
    "def gradient_descent(f, f_prime, start, learning_rate = 0.1):\n",
    "    x = start\n",
    "    while abs(f_prime(x)) > 0.001:\n",
    "        x = x - learning_rate*f_prime(x)\n",
    "    return x\n",
    "    \n",
    "f = lambda x : (x - 1) ** 4 + x ** 2\n",
    "f_prime = lambda x : 4*((x-1)**3) + 2*x\n",
    "start = -1\n",
    "x_min = gradient_descent(f, f_prime, start, 0.01)\n",
    "f_min = f(x_min)\n",
    "\n",
    "print(\"xmin: %0.2f, f(x_min): %0.2f\" % (x_min, f_min))"
   ]
  },
  {
   "cell_type": "code",
   "execution_count": 10,
   "metadata": {},
   "outputs": [],
   "source": [
    "#Solving linear problem with the Simplex method\n",
    "\n",
    "from scipy.optimize import linprog\n",
    "\n",
    "def solve_linear_problem(A, b, c):    \n",
    "    x0_bounds = (0, None)\n",
    "    x1_bounds = (0, None)\n",
    "    res = linprog(c, A_ub=A, b_ub=b,  bounds=(x0_bounds, x1_bounds), method='simplex')\n",
    "    return res.fun,res.x"
   ]
  },
  {
   "cell_type": "code",
   "execution_count": 11,
   "metadata": {},
   "outputs": [
    {
     "name": "stdout",
     "output_type": "stream",
     "text": [
      "The optimal value is:  -11.0  and is reached for x =  [3. 4.]\n"
     ]
    }
   ],
   "source": [
    "A = np.array([[2, 1], [-4, 5], [1, -2]])\n",
    "b = np.array([10, 8, 3])\n",
    "c = np.array([-1, -2])\n",
    "\n",
    "optimal_value, optimal_arg = solve_linear_problem(A, b, c)\n",
    "\n",
    "print(\"The optimal value is: \", optimal_value, \" and is reached for x = \", optimal_arg)"
   ]
  }
 ],
 "metadata": {
  "kernelspec": {
   "display_name": "Python 3.9.12 ('base')",
   "language": "python",
   "name": "python3"
  },
  "language_info": {
   "codemirror_mode": {
    "name": "ipython",
    "version": 3
   },
   "file_extension": ".py",
   "mimetype": "text/x-python",
   "name": "python",
   "nbconvert_exporter": "python",
   "pygments_lexer": "ipython3",
   "version": "3.9.12"
  },
  "orig_nbformat": 4,
  "vscode": {
   "interpreter": {
    "hash": "d28d899d76b226bd5b930db9eb450357df0d2e07f4d8ab8f8b81f5078627ca9c"
   }
  }
 },
 "nbformat": 4,
 "nbformat_minor": 2
}
